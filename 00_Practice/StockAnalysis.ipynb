{
 "cells": [
  {
   "metadata": {},
   "cell_type": "markdown",
   "source": "### 연평균 성장률 (Compoind Annual Growth Rates, CAGR)",
   "id": "91929460ef4687fa"
  },
  {
   "metadata": {
    "ExecuteTime": {
     "end_time": "2024-07-21T13:45:50.548165Z",
     "start_time": "2024-07-21T13:45:50.542337Z"
    }
   },
   "cell_type": "code",
   "source": [
    "def getCAGR(first, last, years):\n",
    "    return (last/first)**(1/years)-1"
   ],
   "id": "initial_id",
   "outputs": [],
   "execution_count": 1
  },
  {
   "metadata": {},
   "cell_type": "markdown",
   "source": "연평균 성장률 구하기",
   "id": "acadcf724c6790bf"
  },
  {
   "metadata": {
    "ExecuteTime": {
     "end_time": "2024-07-21T13:53:14.580275Z",
     "start_time": "2024-07-21T13:53:14.576816Z"
    }
   },
   "cell_type": "code",
   "source": [
    "cagr = getCAGR(65300, 2669000, 20)\n",
    "print(f\"SEC CAGR : {cagr*100:.2f}%\")"
   ],
   "id": "ee54f646f2ee90e1",
   "outputs": [
    {
     "name": "stdout",
     "output_type": "stream",
     "text": [
      "SEC CAGR : 20.38%\n"
     ]
    }
   ],
   "execution_count": 12
  },
  {
   "metadata": {},
   "cell_type": "markdown",
   "source": "Python 에서 제공하는 키워드 알아보기",
   "id": "1f88af0ecd42e1f9"
  },
  {
   "metadata": {
    "ExecuteTime": {
     "end_time": "2024-07-21T14:01:12.366310Z",
     "start_time": "2024-07-21T14:01:12.361589Z"
    }
   },
   "cell_type": "code",
   "source": [
    "import keyword\n",
    "print(keyword.kwlist)"
   ],
   "id": "c4a6a682f006523",
   "outputs": [
    {
     "name": "stdout",
     "output_type": "stream",
     "text": [
      "['False', 'None', 'True', 'and', 'as', 'assert', 'async', 'await', 'break', 'class', 'continue', 'def', 'del', 'elif', 'else', 'except', 'finally', 'for', 'from', 'global', 'if', 'import', 'in', 'is', 'lambda', 'nonlocal', 'not', 'or', 'pass', 'raise', 'return', 'try', 'while', 'with', 'yield']\n"
     ]
    }
   ],
   "execution_count": 17
  },
  {
   "metadata": {
    "ExecuteTime": {
     "end_time": "2024-07-21T14:01:09.322086Z",
     "start_time": "2024-07-21T14:01:09.317849Z"
    }
   },
   "cell_type": "code",
   "source": "print(keyword.__file__)",
   "id": "7d84cd1f76836308",
   "outputs": [
    {
     "name": "stdout",
     "output_type": "stream",
     "text": [
      "/Library/Frameworks/Python.framework/Versions/3.12/lib/python3.12/keyword.py\n"
     ]
    }
   ],
   "execution_count": 16
  },
  {
   "metadata": {
    "ExecuteTime": {
     "end_time": "2024-07-21T14:01:59.067722Z",
     "start_time": "2024-07-21T14:01:59.064225Z"
    }
   },
   "cell_type": "code",
   "source": [
    "import calendar\n",
    "print(calendar.month(2020, 1))"
   ],
   "id": "acc147df2042d2b6",
   "outputs": [
    {
     "name": "stdout",
     "output_type": "stream",
     "text": [
      "    January 2020\n",
      "Mo Tu We Th Fr Sa Su\n",
      "       1  2  3  4  5\n",
      " 6  7  8  9 10 11 12\n",
      "13 14 15 16 17 18 19\n",
      "20 21 22 23 24 25 26\n",
      "27 28 29 30 31\n",
      "\n"
     ]
    }
   ],
   "execution_count": 18
  },
  {
   "metadata": {
    "ExecuteTime": {
     "end_time": "2024-07-21T14:02:49.135222Z",
     "start_time": "2024-07-21T14:02:49.131355Z"
    }
   },
   "cell_type": "code",
   "source": [
    "from calendar import month\n",
    "print(month(2020, 1))"
   ],
   "id": "9edd07d915cda291",
   "outputs": [
    {
     "name": "stdout",
     "output_type": "stream",
     "text": [
      "    January 2020\n",
      "Mo Tu We Th Fr Sa Su\n",
      "       1  2  3  4  5\n",
      " 6  7  8  9 10 11 12\n",
      "13 14 15 16 17 18 19\n",
      "20 21 22 23 24 25 26\n",
      "27 28 29 30 31\n",
      "\n"
     ]
    }
   ],
   "execution_count": 19
  },
  {
   "metadata": {},
   "cell_type": "code",
   "outputs": [],
   "execution_count": null,
   "source": "",
   "id": "784a89a535dcdfa4"
  }
 ],
 "metadata": {
  "kernelspec": {
   "display_name": "Python 3",
   "language": "python",
   "name": "python3"
  },
  "language_info": {
   "codemirror_mode": {
    "name": "ipython",
    "version": 2
   },
   "file_extension": ".py",
   "mimetype": "text/x-python",
   "name": "python",
   "nbconvert_exporter": "python",
   "pygments_lexer": "ipython2",
   "version": "2.7.6"
  }
 },
 "nbformat": 4,
 "nbformat_minor": 5
}
